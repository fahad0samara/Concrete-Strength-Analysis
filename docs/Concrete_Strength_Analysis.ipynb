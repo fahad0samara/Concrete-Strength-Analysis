{
 "cells": [
  {
   "cell_type": "markdown",
   "metadata": {},
   "source": [
    "# Concrete Compressive Strength Analysis\n",
    "\n",
    "This notebook provides a comprehensive analysis of concrete compressive strength based on various mixture components and age. We'll explore:\n",
    "\n",
    "1. Data Overview and Basic Statistics\n",
    "2. Feature Importance Analysis\n",
    "3. Strength Development Over Time\n",
    "4. Mix Design Optimization\n",
    "5. Cost-Effectiveness Analysis\n",
    "6. Predictive Modeling"
   ]
  },
  {
   "cell_type": "code",
   "execution_count": null,
   "metadata": {},
   "source": [
    "# Import required libraries\n",
    "import pandas as pd\n",
    "import numpy as np\n",
    "import seaborn as sns\n",
    "import matplotlib.pyplot as plt\n",
    "from sklearn.model_selection import train_test_split, cross_val_score\n",
    "from sklearn.preprocessing import StandardScaler\n",
    "from sklearn.ensemble import RandomForestRegressor\n",
    "from sklearn.metrics import mean_squared_error, r2_score\n",
    "import warnings\n",
    "warnings.filterwarnings('ignore')\n",
    "\n",
    "# Set plotting style\n",
    "plt.style.use('seaborn')\n",
    "sns.set_palette('husl')"
   ]
  },
  {
   "cell_type": "markdown",
   "metadata": {},
   "source": [
    "## 1. Data Loading and Initial Exploration"
   ]
  },
  {
   "cell_type": "code",
   "execution_count": null,
   "metadata": {},
   "source": [
    "# Load the dataset\n",
    "df = pd.read_csv('concrete.csv')\n",
    "\n",
    "# Display basic information\n",
    "print(\"Dataset Info:\")\n",
    "print(df.info())\n",
    "\n",
    "print(\"\\nBasic Statistics:\")\n",
    "print(df.describe().round(2))"
   ]
  },
  {
   "cell_type": "markdown",
   "metadata": {},
   "source": [
    "## 2. Feature Importance Analysis"
   ]
  },
  {
   "cell_type": "code",
   "execution_count": null,
   "metadata": {},
   "source": [
    "def analyze_feature_importance():\n",
    "    # Prepare data\n",
    "    X = df.drop('strength', axis=1)\n",
    "    y = df['strength']\n",
    "    \n",
    "    # Scale features\n",
    "    scaler = StandardScaler()\n",
    "    X_scaled = scaler.fit_transform(X)\n",
    "    X_scaled = pd.DataFrame(X_scaled, columns=X.columns)\n",
    "    \n",
    "    # Train Random Forest\n",
    "    rf_model = RandomForestRegressor(n_estimators=100, random_state=42)\n",
    "    rf_model.fit(X_scaled, y)\n",
    "    \n",
    "    # Get feature importance\n",
    "    importance = pd.DataFrame({\n",
    "        'Feature': X.columns,\n",
    "        'Importance': rf_model.feature_importances_\n",
    "    }).sort_values('Importance', ascending=False)\n",
    "    \n",
    "    # Plot\n",
    "    plt.figure(figsize=(10, 6))\n",
    "    sns.barplot(data=importance, x='Importance', y='Feature')\n",
    "    plt.title('Feature Importance for Concrete Strength Prediction')\n",
    "    plt.tight_layout()\n",
    "    plt.show()\n",
    "    \n",
    "    return importance\n",
    "\n",
    "importance = analyze_feature_importance()\n",
    "print(\"Feature Importance Ranking:\")\n",
    "print(importance)"
   ]
  },
  {
   "cell_type": "markdown",
   "metadata": {},
   "source": [
    "## 3. Strength Development Analysis"
   ]
  },
  {
   "cell_type": "code",
   "execution_count": null,
   "metadata": {},
   "source": [
    "def analyze_strength_development():\n",
    "    # Create age groups\n",
    "    age_groups = [1, 7, 14, 28, 56, 90, 180, 365]\n",
    "    df['age_group'] = pd.cut(df['age'], bins=age_groups, labels=age_groups[:-1])\n",
    "    \n",
    "    # Plot strength development\n",
    "    plt.figure(figsize=(12, 6))\n",
    "    sns.boxplot(data=df, x='age_group', y='strength')\n",
    "    plt.title('Concrete Strength Development Over Time')\n",
    "    plt.xlabel('Age (days)')\n",
    "    plt.ylabel('Strength (MPa)')\n",
    "    plt.show()\n",
    "    \n",
    "    # Calculate statistics\n",
    "    age_stats = df.groupby('age_group')['strength'].agg(['mean', 'std', 'count']).round(2)\n",
    "    return age_stats\n",
    "\n",
    "age_stats = analyze_strength_development()\n",
    "print(\"Strength Development Statistics:\")\n",
    "print(age_stats)"
   ]
  },
  {
   "cell_type": "markdown",
   "metadata": {},
   "source": [
    "## 4. Mix Design Optimization"
   ]
  },
  {
   "cell_type": "code",
   "execution_count": null,
   "metadata": {},
   "source": [
    "def analyze_mix_design():\n",
    "    # Calculate water-cement ratio\n",
    "    df['w_c_ratio'] = df['water'] / df['cement']\n",
    "    \n",
    "    # Create strength classes\n",
    "    df['strength_class'] = pd.cut(df['strength'], \n",
    "                                 bins=[0, 20, 30, 40, 50, float('inf')],\n",
    "                                 labels=['Low', 'Moderate', 'High', 'Very High', 'Ultra High'])\n",
    "    \n",
    "    # Calculate average proportions for each strength class\n",
    "    mix_stats = df.groupby('strength_class').agg({\n",
    "        'cement': 'mean',\n",
    "        'water': 'mean',\n",
    "        'w_c_ratio': 'mean',\n",
    "        'slag': 'mean',\n",
    "        'ash': 'mean',\n",
    "        'superplastic': 'mean'\n",
    "    }).round(2)\n",
    "    \n",
    "    # Plot water-cement ratio vs strength\n",
    "    plt.figure(figsize=(10, 6))\n",
    "    plt.scatter(df['w_c_ratio'], df['strength'], alpha=0.5)\n",
    "    plt.xlabel('Water-Cement Ratio')\n",
    "    plt.ylabel('Strength (MPa)')\n",
    "    plt.title('Water-Cement Ratio vs Strength')\n",
    "    plt.show()\n",
    "    \n",
    "    return mix_stats\n",
    "\n",
    "mix_stats = analyze_mix_design()\n",
    "print(\"Mix Design Statistics by Strength Class:\")\n",
    "print(mix_stats)"
   ]
  },
  {
   "cell_type": "markdown",
   "metadata": {},
   "source": [
    "## 5. Cost-Effectiveness Analysis"
   ]
  },
  {
   "cell_type": "code",
   "execution_count": null,
   "metadata": {},
   "source": [
    "def analyze_cost_effectiveness():\n",
    "    # Define approximate costs (USD/kg)\n",
    "    costs = {\n",
    "        'cement': 0.10,\n",
    "        'slag': 0.05,\n",
    "        'ash': 0.03,\n",
    "        'water': 0.001,\n",
    "        'superplastic': 2.0\n",
    "    }\n",
    "    \n",
    "    # Calculate costs\n",
    "    for material, cost in costs.items():\n",
    "        df[f'{material}_cost'] = df[material] * cost\n",
    "    \n",
    "    df['total_cost'] = sum(df[f'{material}_cost'] for material in costs.keys())\n",
    "    df['cost_effectiveness'] = df['strength'] / df['total_cost']\n",
    "    \n",
    "    # Plot cost vs strength\n",
    "    plt.figure(figsize=(10, 6))\n",
    "    plt.scatter(df['total_cost'], df['strength'], alpha=0.5)\n",
    "    plt.xlabel('Total Material Cost (USD/m³)')\n",
    "    plt.ylabel('Strength (MPa)')\n",
    "    plt.title('Cost vs Strength Relationship')\n",
    "    plt.show()\n",
    "    \n",
    "    # Find most cost-effective mixtures\n",
    "    return df.nlargest(10, 'cost_effectiveness')[['strength', 'total_cost', 'cost_effectiveness'] + \n",
    "                                                list(costs.keys())].round(2)\n",
    "\n",
    "cost_effective_mixtures = analyze_cost_effectiveness()\n",
    "print(\"Top 10 Most Cost-Effective Mixtures:\")\n",
    "print(cost_effective_mixtures)"
   ]
  },
  {
   "cell_type": "markdown",
   "metadata": {},
   "source": [
    "## 6. Predictive Modeling"
   ]
  },
  {
   "cell_type": "code",
   "execution_count": null,
   "metadata": {},
   "source": [
    "def build_predictive_model():\n",
    "    # Prepare data\n",
    "    X = df.drop('strength', axis=1)\n",
    "    y = df['strength']\n",
    "    \n",
    "    # Scale features\n",
    "    scaler = StandardScaler()\n",
    "    X_scaled = scaler.fit_transform(X)\n",
    "    \n",
    "    # Split data\n",
    "    X_train, X_test, y_train, y_test = train_test_split(X_scaled, y, test_size=0.2, random_state=42)\n",
    "    \n",
    "    # Train model\n",
    "    rf_model = RandomForestRegressor(n_estimators=100, random_state=42)\n",
    "    rf_model.fit(X_train, y_train)\n",
    "    \n",
    "    # Make predictions\n",
    "    y_pred = rf_model.predict(X_test)\n",
    "    \n",
    "    # Calculate metrics\n",
    "    r2 = r2_score(y_test, y_pred)\n",
    "    rmse = np.sqrt(mean_squared_error(y_test, y_pred))\n",
    "    \n",
    "    # Plot actual vs predicted\n",
    "    plt.figure(figsize=(10, 6))\n",
    "    plt.scatter(y_test, y_pred, alpha=0.5)\n",
    "    plt.plot([y_test.min(), y_test.max()], [y_test.min(), y_test.max()], 'r--', lw=2)\n",
    "    plt.xlabel('Actual Strength (MPa)')\n",
    "    plt.ylabel('Predicted Strength (MPa)')\n",
    "    plt.title('Actual vs Predicted Concrete Strength')\n",
    "    plt.show()\n",
    "    \n",
    "    return {'R2 Score': r2, 'RMSE': rmse}\n",
    "\n",
    "model_metrics = build_predictive_model()\n",
    "print(\"Model Performance Metrics:\")\n",
    "print(f\"R² Score: {model_metrics['R2 Score']:.4f}\")\n",
    "print(f\"RMSE: {model_metrics['RMSE']:.4f} MPa\")"
   ]
  },
  {
   "cell_type": "markdown",
   "metadata": {},
   "source": [
    "## Conclusions\n",
    "\n",
    "1. The most important factors affecting concrete strength are:\n",
    "   - Age\n",
    "   - Cement content\n",
    "   - Water-cement ratio\n",
    "\n",
    "2. Optimal mix designs vary by strength class:\n",
    "   - Ultra High (>50 MPa): Low w/c ratio, high cement content\n",
    "   - Very High (40-50 MPa): Moderate w/c ratio, balanced mixture\n",
    "   - High (30-40 MPa): Standard proportions\n",
    "\n",
    "3. Cost-effectiveness can be optimized by:\n",
    "   - Using appropriate supplementary materials\n",
    "   - Optimizing water-cement ratio\n",
    "   - Considering strength development time\n",
    "\n",
    "4. The predictive model shows excellent performance with:\n",
    "   - High R² score\n",
    "   - Low RMSE\n",
    "   - Good generalization ability"
   ]
  }
 ],
 "metadata": {
  "kernelspec": {
   "display_name": "Python 3",
   "language": "python",
   "name": "python3"
  },
  "language_info": {
   "codemirror_mode": {
    "name": "ipython",
    "version": 3
   },
   "file_extension": ".py",
   "mimetype": "text/x-python",
   "name": "python",
   "nbconvert_exporter": "python",
   "pygments_lexer": "ipython3",
   "version": "3.8.0"
  }
 },
 "nbformat": 4,
 "nbformat_minor": 4
}
